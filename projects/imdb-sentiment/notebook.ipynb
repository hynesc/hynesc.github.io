{
  "nbformat": 4,
  "nbformat_minor": 0,
  "metadata": {
    "colab": {
      "provenance": []
    },
    "kernelspec": {
      "name": "python3",
      "display_name": "Python 3"
    },
    "language_info": {
      "name": "python"
    }
  },
  "cells": [
    {
      "cell_type": "markdown",
      "source": [
        "# Setup"
      ],
      "metadata": {
        "id": "p0OPiPuJPr1T"
      }
    },
    {
      "cell_type": "markdown",
      "source": [
        "## Library Setup"
      ],
      "metadata": {
        "id": "cujzN2LJPuor"
      }
    },
    {
      "cell_type": "code",
      "metadata": {
        "id": "8a12013b"
      },
      "source": [
        "!pip install --upgrade datasets --quiet"
      ],
      "execution_count": 15,
      "outputs": []
    },
    {
      "cell_type": "code",
      "execution_count": 16,
      "metadata": {
        "id": "azw0OBm9ylIv"
      },
      "outputs": [],
      "source": [
        "import pandas as pd\n",
        "import joblib\n",
        "import time\n",
        "from google.colab import drive\n",
        "from sklearn.feature_extraction.text import TfidfVectorizer\n",
        "from sklearn.linear_model import LogisticRegression\n",
        "from sklearn.model_selection import train_test_split, GridSearchCV\n",
        "from sklearn.pipeline import Pipeline\n",
        "from datasets import load_dataset"
      ]
    },
    {
      "cell_type": "markdown",
      "source": [
        "## Data Setup"
      ],
      "metadata": {
        "id": "OB8xWR7rPygD"
      }
    },
    {
      "cell_type": "code",
      "source": [
        "# Mount Google Drive to save the final model\n",
        "print(\"Mounting Google Drive...\")\n",
        "drive.mount('/content/drive')\n",
        "\n",
        "# Load and prepare the dataset\n",
        "print(\"\\nLoading and preparing dataset...\")\n",
        "dataset = load_dataset(\"imdb\")\n",
        "df = pd.concat([\n",
        "    pd.DataFrame(dataset['train']),\n",
        "    pd.DataFrame(dataset['test'])\n",
        "], ignore_index=True)\n",
        "df = df.rename(columns={'text': 'review', 'label': 'sentiment'})\n",
        "df['sentiment'] = df['sentiment'].map({0: 'Negative', 1: 'Positive'})\n",
        "\n",
        "# Create the train/test split\n",
        "X = df['review']\n",
        "y = df['sentiment']\n",
        "X_train, X_test, y_train, y_test = train_test_split(X, y, test_size=0.2, random_state=42, stratify=y)\n",
        "print(\"Dataset ready.\")"
      ],
      "metadata": {
        "colab": {
          "base_uri": "https://localhost:8080/"
        },
        "id": "1tXAmsue1USz",
        "outputId": "17b6baa5-bf48-4cbd-dd48-7620398cf1d9"
      },
      "execution_count": 17,
      "outputs": [
        {
          "output_type": "stream",
          "name": "stdout",
          "text": [
            "Mounting Google Drive...\n",
            "Drive already mounted at /content/drive; to attempt to forcibly remount, call drive.mount(\"/content/drive\", force_remount=True).\n",
            "\n",
            "Loading and preparing dataset...\n",
            "Dataset ready.\n"
          ]
        }
      ]
    },
    {
      "cell_type": "markdown",
      "source": [
        "# Building a Model"
      ],
      "metadata": {
        "id": "cuu_ULF2CBHl"
      }
    },
    {
      "cell_type": "markdown",
      "source": [
        "## Define Model"
      ],
      "metadata": {
        "id": "MeZhpOK2CDK2"
      }
    },
    {
      "cell_type": "markdown",
      "source": [
        "I choose to use logistic regression."
      ],
      "metadata": {
        "id": "NLEVfZayP6mC"
      }
    },
    {
      "cell_type": "code",
      "source": [
        "# --- Define the Logistic Regression Pipeline ---\n",
        "logreg_pipeline = Pipeline([\n",
        "    ('tfidf', TfidfVectorizer(stop_words='english')),\n",
        "    ('logreg', LogisticRegression(solver='liblinear', max_iter=1000))\n",
        "])"
      ],
      "metadata": {
        "id": "StCduLo13h5g"
      },
      "execution_count": null,
      "outputs": []
    },
    {
      "cell_type": "markdown",
      "source": [
        "## Run Grid Search"
      ],
      "metadata": {
        "id": "Vkf9OVnCCOt3"
      }
    },
    {
      "cell_type": "markdown",
      "source": [
        "Next, I choose the parameters to test in the grid search."
      ],
      "metadata": {
        "id": "cEfejpXNQCSu"
      }
    },
    {
      "cell_type": "code",
      "source": [
        "# --- Define the Parameters for the Grid Search ---\n",
        "logreg_params = {\n",
        "    'tfidf__ngram_range': [(1, 1), (1, 2)],\n",
        "    'tfidf__min_df': [3, 5],\n",
        "    'logreg__C': [1, 10],\n",
        "}"
      ],
      "metadata": {
        "id": "-xbeIYgcP_2N"
      },
      "execution_count": null,
      "outputs": []
    },
    {
      "cell_type": "code",
      "source": [
        "# --- Run the Grid Search ---\n",
        "print(\"\\--- Starting Grid Search for Logistic Regression ---\")\n",
        "start_time = time.time()\n",
        "grid_search_logreg = GridSearchCV(logreg_pipeline, logreg_params, cv=3, n_jobs=-1, verbose=2)\n",
        "grid_search_logreg.fit(X_train, y_train)\n",
        "print(f\"\\nGrid Search completed in {time.time() - start_time:.2f} seconds.\")"
      ],
      "metadata": {
        "colab": {
          "base_uri": "https://localhost:8080/"
        },
        "id": "wN8jMUj1CJp5",
        "outputId": "1491883a-cbca-4e25-ae94-c8db60333ab0"
      },
      "execution_count": 20,
      "outputs": [
        {
          "output_type": "stream",
          "name": "stdout",
          "text": [
            "\\--- Starting Grid Search for Logistic Regression ---\n",
            "Fitting 3 folds for each of 8 candidates, totalling 24 fits\n",
            "\n",
            "Grid Search completed in 293.88 seconds.\n"
          ]
        }
      ]
    },
    {
      "cell_type": "markdown",
      "source": [
        "# Model Evaluation"
      ],
      "metadata": {
        "id": "HbOsjqZoQOvT"
      }
    },
    {
      "cell_type": "code",
      "source": [
        "print(\"--- Grid Search Results ---\")\n",
        "print(f\"Best Cross-Validation Score: {grid_search_logreg.best_score_:.4f}\")\n",
        "print(\"Best Parameters Found:\", grid_search_logreg.best_params_)\n",
        "\n",
        "# The best model is already trained on the full training data\n",
        "best_model = grid_search_logreg.best_estimator_\n",
        "\n",
        "# --- Final Evaluation on the Held-Out Test Set ---\n",
        "print(\"\\n--- Final Evaluation on Test Set ---\")\n",
        "final_accuracy = best_model.score(X_test, y_test)\n",
        "print(f\"Final accuracy on the test set: {final_accuracy:.4f}\")"
      ],
      "metadata": {
        "colab": {
          "base_uri": "https://localhost:8080/"
        },
        "id": "OzTqOunMIZvN",
        "outputId": "29367ef6-d685-4a88-eaff-a61a7bb66b56"
      },
      "execution_count": 24,
      "outputs": [
        {
          "output_type": "stream",
          "name": "stdout",
          "text": [
            "--- Grid Search Results ---\n",
            "Best Cross-Validation Score: 0.8998\n",
            "Best Parameters Found: {'logreg__C': 10, 'tfidf__min_df': 3, 'tfidf__ngram_range': (1, 2)}\n",
            "\n",
            "--- Final Evaluation on Test Set ---\n",
            "Final accuracy on the test set: 0.9080\n"
          ]
        }
      ]
    },
    {
      "cell_type": "code",
      "source": [
        "# --- Save the Final Model ---\n",
        "model_name = 'imdb_model.joblib'\n",
        "drive_path = f'/content/drive/My Drive/{model_name}'\n",
        "joblib.dump(best_model, drive_path)\n",
        "print(f\"Best model saved to Google Drive at: {drive_path}\")"
      ],
      "metadata": {
        "id": "CcwFseRhQVjA",
        "colab": {
          "base_uri": "https://localhost:8080/"
        },
        "outputId": "a6e32045-78c7-4d0c-b1c8-c675c153ad1a"
      },
      "execution_count": 26,
      "outputs": [
        {
          "output_type": "stream",
          "name": "stdout",
          "text": [
            "Best model saved to Google Drive at: /content/drive/My Drive/imdb_model.joblib\n"
          ]
        }
      ]
    }
  ]
}
